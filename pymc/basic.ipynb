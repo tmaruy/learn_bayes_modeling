{
  "nbformat": 4,
  "nbformat_minor": 0,
  "metadata": {
    "colab": {
      "provenance": [],
      "authorship_tag": "ABX9TyOZ/c2/hwJwL/oLoYxlgYHK",
      "include_colab_link": true
    },
    "kernelspec": {
      "name": "python3",
      "display_name": "Python 3"
    },
    "language_info": {
      "name": "python"
    }
  },
  "cells": [
    {
      "cell_type": "markdown",
      "metadata": {
        "id": "view-in-github",
        "colab_type": "text"
      },
      "source": [
        "<a href=\"https://colab.research.google.com/github/tmaruy/learn_bayes_modeling/blob/main/pymc/basic.ipynb\" target=\"_parent\"><img src=\"https://colab.research.google.com/assets/colab-badge.svg\" alt=\"Open In Colab\"/></a>"
      ]
    },
    {
      "cell_type": "code",
      "execution_count": null,
      "metadata": {
        "id": "7R-G902joaoB"
      },
      "outputs": [],
      "source": [
        "import arviz as az\n",
        "import graphviz as gr\n",
        "import matplotlib.pyplot as plt\n",
        "import numpy as np\n",
        "import pandas as pd\n",
        "import pymc as pm\n",
        "import seaborn as sns\n",
        "import xarray as xr"
      ]
    },
    {
      "cell_type": "code",
      "source": [
        "import arviz as az\n",
        "import graphviz as gr\n",
        "import matplotlib.pyplot as plt\n",
        "import numpy as np\n",
        "import pandas as pd\n",
        "import pymc as pm\n",
        "import seaborn as sns\n",
        "import xarray as xr"
      ],
      "metadata": {
        "id": "MzjYkYtdofVS"
      },
      "execution_count": null,
      "outputs": []
    }
  ]
}